{
  "nbformat": 4,
  "nbformat_minor": 0,
  "metadata": {
    "colab": {
      "name": "Phase Estimation.ipynb",
      "provenance": [],
      "authorship_tag": "ABX9TyP8UteHLwQoqnQV80x0n8Nh",
      "include_colab_link": true
    },
    "kernelspec": {
      "name": "python3",
      "display_name": "Python 3"
    }
  },
  "cells": [
    {
      "cell_type": "markdown",
      "metadata": {
        "id": "view-in-github",
        "colab_type": "text"
      },
      "source": [
        "<a href=\"https://colab.research.google.com/github/enakai00/cirq_examples/blob/master/Phase_Estimation.ipynb\" target=\"_parent\"><img src=\"https://colab.research.google.com/assets/colab-badge.svg\" alt=\"Open In Colab\"/></a>"
      ]
    },
    {
      "cell_type": "markdown",
      "metadata": {
        "id": "yntcWipujdOl",
        "colab_type": "text"
      },
      "source": [
        "Cirq をインストールします。"
      ]
    },
    {
      "cell_type": "code",
      "metadata": {
        "id": "GIq3GfWWtDie",
        "colab_type": "code",
        "colab": {}
      },
      "source": [
        "pip install cirq==0.7.0"
      ],
      "execution_count": 0,
      "outputs": []
    },
    {
      "cell_type": "markdown",
      "metadata": {
        "id": "y8UEZAHwjnN6",
        "colab_type": "text"
      },
      "source": [
        "必要なモジュールをインポートします。"
      ]
    },
    {
      "cell_type": "code",
      "metadata": {
        "id": "A71wsGr2uS-A",
        "colab_type": "code",
        "colab": {}
      },
      "source": [
        "import numpy as np\n",
        "import matplotlib.pyplot as plt\n",
        "from pandas import DataFrame\n",
        "import cirq"
      ],
      "execution_count": 0,
      "outputs": []
    },
    {
      "cell_type": "markdown",
      "metadata": {
        "id": "-Z71mLqklrST",
        "colab_type": "text"
      },
      "source": [
        "逆フーリエ変換を量子回路で実装する例です。"
      ]
    },
    {
      "cell_type": "code",
      "metadata": {
        "id": "MHfxRXEGhzYB",
        "colab_type": "code",
        "colab": {}
      },
      "source": [
        "class InverseQft(cirq.Gate):\n",
        "    \"\"\"Quantum gate for the Inverse Quantum Fourier Transformation\n",
        "    \"\"\"\n",
        "\n",
        "    def __init__(self, num_qubits):\n",
        "        super(InverseQft, self)\n",
        "        self._num_qubits = num_qubits\n",
        "\n",
        "    def num_qubits(self):\n",
        "        return self._num_qubits\n",
        "\n",
        "    def _decompose_(self, qubits):\n",
        "        \"\"\"A quantum circuit with the following structure\n",
        "        (swaps at the end of the circuit are omitted.)\n",
        "        ---H--@-------@--------@----------------------------------------------\n",
        "              |       |        |\n",
        "        ------@^-0.5--+--------+---------H--@-------@-------------------------\n",
        "                      |        |            |       |\n",
        "        --------------@^-0.25--+------------@^-0.5--+---------H--@------------\n",
        "                               |                    |            |\n",
        "        -----------------------@^-0.125-------------@^-0.25------@^-0.5---H---\n",
        "        The number of qubits can be arbitrary.\n",
        "        \"\"\"\n",
        "\n",
        "        _qubits = list(qubits)\n",
        "        while len(_qubits) > 0:\n",
        "            q_head = _qubits.pop(0)\n",
        "            yield cirq.H(q_head)\n",
        "            for i, qubit in enumerate(_qubits):\n",
        "                yield (cirq.CZ(qubit, q_head)**(-1/2.0**(i+1)))\n",
        "\n",
        "        _qubits = list(qubits)\n",
        "        while len(_qubits) > 1:\n",
        "            yield (cirq.SWAP(_qubits[0], _qubits[-1]))\n",
        "            _qubits = _qubits[1:-1]\n",
        "\n",
        "    def __str__(self):\n",
        "        return 'InverseQFT'\n",
        "\n",
        "    def __repr__(self):\n",
        "        return ('cirq.InverseQft(num_qubits={!r})'.format(self._num_qubits))\n",
        "\n",
        "    def _circuit_diagram_info_(self, args: 'cirq.CircuitDiagramInfoArgs'):\n",
        "        return cirq.CircuitDiagramInfo(\n",
        "            wire_symbols=(str(self),) +\n",
        "            tuple(f'#{k+1}' for k in range(1, self._num_qubits)),\n",
        "            exponent_qubit_index=0)"
      ],
      "execution_count": 0,
      "outputs": []
    },
    {
      "cell_type": "markdown",
      "metadata": {
        "id": "0PfGdq6okM6o",
        "colab_type": "text"
      },
      "source": [
        "指定した位相の固有値を持つユニタリゲートを定義します。固有ベクトルは |0> です。"
      ]
    },
    {
      "cell_type": "code",
      "metadata": {
        "id": "Rj2WDmT0j9q1",
        "colab_type": "code",
        "colab": {}
      },
      "source": [
        "def example_gate(phi):\n",
        "    \"\"\"An example unitary 1-qubit gate U with an eigen vector |0> and an\n",
        "    eigen value exp(2*Pi*i*phi)\n",
        "    \"\"\"\n",
        "\n",
        "    gate = cirq.MatrixGate(\n",
        "        matrix=np.array([[np.exp(2 * np.pi * 1.0j * phi), 0], [0, 1]]))\n",
        "    return gate"
      ],
      "execution_count": 0,
      "outputs": []
    },
    {
      "cell_type": "markdown",
      "metadata": {
        "id": "idujWl7bS0ek",
        "colab_type": "text"
      },
      "source": [
        "先ほど定義したユニタリゲートの位相推定を行います。"
      ]
    },
    {
      "cell_type": "code",
      "metadata": {
        "id": "HBaCiAn8JwoU",
        "colab_type": "code",
        "colab": {
          "base_uri": "https://localhost:8080/",
          "height": 187
        },
        "outputId": "0e61f124-b9e7-40ab-e8e5-08d04903b929"
      },
      "source": [
        "qnum = 8\n",
        "\n",
        "for _ in range(10):\n",
        "  phase = np.random.random()\n",
        "\n",
        "  ancilla = cirq.LineQubit(-1)\n",
        "  qubits = cirq.LineQubit.range(qnum)\n",
        "\n",
        "  oracle_raised_to_power = [\n",
        "     example_gate(phase).on(ancilla).controlled_by(qubits[-(i+1)])**(2**i) for i in range(qnum)\n",
        "  ]\n",
        "  circuit = cirq.Circuit(cirq.H.on_each(*qubits), oracle_raised_to_power,\n",
        "                         InverseQft(qnum)(*qubits),\n",
        "                         cirq.measure(*qubits, key='phase'))\n",
        "\n",
        "  result = cirq.sample(circuit, repetitions=100)\n",
        "  mean = np.mean(result.data['phase'])\n",
        "  estimate = mean / 2**qnum\n",
        "  print(f'phase={phase:0.4f}, estimate={estimate:0.4f}')"
      ],
      "execution_count": 159,
      "outputs": [
        {
          "output_type": "stream",
          "text": [
            "phase=0.5389, estimate=0.5391\n",
            "phase=0.3736, estimate=0.3814\n",
            "phase=0.6348, estimate=0.6346\n",
            "phase=0.6177, estimate=0.6173\n",
            "phase=0.6118, estimate=0.6052\n",
            "phase=0.6548, estimate=0.6566\n",
            "phase=0.5031, estimate=0.5032\n",
            "phase=0.1407, estimate=0.1406\n",
            "phase=0.9625, estimate=0.9436\n",
            "phase=0.5713, estimate=0.5699\n"
          ],
          "name": "stdout"
        }
      ]
    }
  ]
}