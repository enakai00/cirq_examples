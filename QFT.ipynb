{
  "nbformat": 4,
  "nbformat_minor": 0,
  "metadata": {
    "colab": {
      "name": "QFT.ipynb",
      "provenance": [],
      "authorship_tag": "ABX9TyPRm0cpdCWrr14h6JqLvs7p",
      "include_colab_link": true
    },
    "kernelspec": {
      "name": "python3",
      "display_name": "Python 3"
    }
  },
  "cells": [
    {
      "cell_type": "markdown",
      "metadata": {
        "id": "view-in-github",
        "colab_type": "text"
      },
      "source": [
        "<a href=\"https://colab.research.google.com/github/enakai00/cirq_examples/blob/master/QFT.ipynb\" target=\"_parent\"><img src=\"https://colab.research.google.com/assets/colab-badge.svg\" alt=\"Open In Colab\"/></a>"
      ]
    },
    {
      "cell_type": "markdown",
      "metadata": {
        "id": "yntcWipujdOl",
        "colab_type": "text"
      },
      "source": [
        "Cirq をインストールします。"
      ]
    },
    {
      "cell_type": "code",
      "metadata": {
        "id": "GIq3GfWWtDie",
        "colab_type": "code",
        "colab": {}
      },
      "source": [
        "pip install cirq==0.7.0"
      ],
      "execution_count": 0,
      "outputs": []
    },
    {
      "cell_type": "markdown",
      "metadata": {
        "id": "y8UEZAHwjnN6",
        "colab_type": "text"
      },
      "source": [
        "必要なモジュールをインポートします。"
      ]
    },
    {
      "cell_type": "code",
      "metadata": {
        "id": "A71wsGr2uS-A",
        "colab_type": "code",
        "colab": {}
      },
      "source": [
        "import numpy as np\n",
        "import matplotlib.pyplot as plt\n",
        "from pandas import DataFrame\n",
        "import cirq"
      ],
      "execution_count": 0,
      "outputs": []
    },
    {
      "cell_type": "markdown",
      "metadata": {
        "id": "qQOfneKxjqDJ",
        "colab_type": "text"
      },
      "source": [
        "フーリエ変換を愚直に実装します。"
      ]
    },
    {
      "cell_type": "code",
      "metadata": {
        "id": "OVKtMMa9tWKH",
        "colab_type": "code",
        "colab": {}
      },
      "source": [
        "def fourier_transform(xs):\n",
        "  n = len(xs)\n",
        "  ys = np.zeros(n)\n",
        "  for k in range(n):\n",
        "    result = 0\n",
        "    for j in range(n):\n",
        "      result += xs[j] * np.exp(2*np.pi*(1.0j)*j*k/n)\n",
        "    ys[k] = result / np.sqrt(n)\n",
        "  return ys\n",
        "\n",
        "def fourier_show(xs):\n",
        "  ys = fourier_transform(xs)\n",
        "  ys_r = list(map(lambda x: x.real, ys))\n",
        "\n",
        "  fig = plt.figure(figsize=(7, 4))\n",
        "  subplot = fig.add_subplot(1, 1, 1)\n",
        "  index = np.arange(len(xs))\n",
        "  subplot.scatter(index, xs, label='xs')\n",
        "  subplot.scatter(index, ys_r, label='ys_r')\n",
        "  subplot.set_xticks(index)\n",
        "  subplot.legend()"
      ],
      "execution_count": 0,
      "outputs": []
    },
    {
      "cell_type": "markdown",
      "metadata": {
        "id": "rfWYDxdijtK1",
        "colab_type": "text"
      },
      "source": [
        "周期 0 の例です。"
      ]
    },
    {
      "cell_type": "code",
      "metadata": {
        "id": "6ibNpBWriynA",
        "colab_type": "code",
        "colab": {
          "base_uri": "https://localhost:8080/",
          "height": 299
        },
        "outputId": "ded8d2f1-27f5-401c-8cc6-354aae479493"
      },
      "source": [
        "n = 16\n",
        "xs = np.array([np.cos(0*np.pi*x/n) for x in range(n)]) \n",
        "fourier_show(xs)"
      ],
      "execution_count": 111,
      "outputs": [
        {
          "output_type": "stream",
          "text": [
            "/usr/local/lib/python3.6/dist-packages/ipykernel_launcher.py:8: ComplexWarning: Casting complex values to real discards the imaginary part\n",
            "  \n"
          ],
          "name": "stderr"
        },
        {
          "output_type": "display_data",
          "data": {
            "image/png": "[encoded data removed]",
            "text/plain": [
              "<Figure size 504x288 with 1 Axes>"
            ]
          },
          "metadata": {
            "tags": []
          }
        }
      ]
    },
    {
      "cell_type": "markdown",
      "metadata": {
        "id": "Op-S7g4SjwLB",
        "colab_type": "text"
      },
      "source": [
        "周期 1 の例です。"
      ]
    },
    {
      "cell_type": "code",
      "metadata": {
        "id": "kFji5_6toBZE",
        "colab_type": "code",
        "colab": {
          "base_uri": "https://localhost:8080/",
          "height": 299
        },
        "outputId": "24433b9d-7bb5-4e04-e54b-d8b71b13d8cb"
      },
      "source": [
        "n = 16\n",
        "xs = np.array([np.cos(2*np.pi*x/n) for x in range(n)]) \n",
        "fourier_show(xs)"
      ],
      "execution_count": 112,
      "outputs": [
        {
          "output_type": "stream",
          "text": [
            "/usr/local/lib/python3.6/dist-packages/ipykernel_launcher.py:8: ComplexWarning: Casting complex values to real discards the imaginary part\n",
            "  \n"
          ],
          "name": "stderr"
        },
        {
          "output_type": "display_data",
          "data": {
            "image/png": "[encoded data removed]",
            "text/plain": [
              "<Figure size 504x288 with 1 Axes>"
            ]
          },
          "metadata": {
            "tags": []
          }
        }
      ]
    },
    {
      "cell_type": "markdown",
      "metadata": {
        "id": "v7YJRyT1jzTN",
        "colab_type": "text"
      },
      "source": [
        "周期 1/2 の例です。"
      ]
    },
    {
      "cell_type": "code",
      "metadata": {
        "id": "1gmy0ebFppoE",
        "colab_type": "code",
        "colab": {
          "base_uri": "https://localhost:8080/",
          "height": 299
        },
        "outputId": "760203b1-7fb8-4261-8ae9-69c999f06e5b"
      },
      "source": [
        "n = 16\n",
        "xs = np.array([np.cos(4*np.pi*x/n) for x in range(n)]) \n",
        "fourier_show(xs)"
      ],
      "execution_count": 113,
      "outputs": [
        {
          "output_type": "stream",
          "text": [
            "/usr/local/lib/python3.6/dist-packages/ipykernel_launcher.py:8: ComplexWarning: Casting complex values to real discards the imaginary part\n",
            "  \n"
          ],
          "name": "stderr"
        },
        {
          "output_type": "display_data",
          "data": {
            "image/png": "[encoded data removed]",
            "text/plain": [
              "<Figure size 504x288 with 1 Axes>"
            ]
          },
          "metadata": {
            "tags": []
          }
        }
      ]
    },
    {
      "cell_type": "markdown",
      "metadata": {
        "id": "L_i7NnoSj6K7",
        "colab_type": "text"
      },
      "source": [
        "周期 1 と周期 1/2 を合成した例です。"
      ]
    },
    {
      "cell_type": "code",
      "metadata": {
        "id": "ekEiaMIRqV2G",
        "colab_type": "code",
        "colab": {
          "base_uri": "https://localhost:8080/",
          "height": 299
        },
        "outputId": "d0653577-7f6b-4964-bd89-040e3c940462"
      },
      "source": [
        "n = 16\n",
        "xs = np.array([np.cos(2*np.pi*x/n) for x in range(n)])+ np.array([np.cos(4*np.pi*x/n) for x in range(n)])\n",
        "fourier_show(xs)"
      ],
      "execution_count": 114,
      "outputs": [
        {
          "output_type": "stream",
          "text": [
            "/usr/local/lib/python3.6/dist-packages/ipykernel_launcher.py:8: ComplexWarning: Casting complex values to real discards the imaginary part\n",
            "  \n"
          ],
          "name": "stderr"
        },
        {
          "output_type": "display_data",
          "data": {
            "image/png": "[encoded data removed]",
            "text/plain": [
              "<Figure size 504x288 with 1 Axes>"
            ]
          },
          "metadata": {
            "tags": []
          }
        }
      ]
    },
    {
      "cell_type": "markdown",
      "metadata": {
        "id": "-Z71mLqklrST",
        "colab_type": "text"
      },
      "source": [
        "フーリエ変換を量子回路で実装する例です。"
      ]
    },
    {
      "cell_type": "code",
      "metadata": {
        "id": "MHfxRXEGhzYB",
        "colab_type": "code",
        "colab": {}
      },
      "source": [
        "class Qft(cirq.Gate):\n",
        "    \"\"\"Quantum gate for the Quantum Fourier Transformation\n",
        "    \"\"\"\n",
        "\n",
        "    def __init__(self, num_qubits):\n",
        "        super(Qft, self)\n",
        "        self._num_qubits = num_qubits\n",
        "\n",
        "    def num_qubits(self):\n",
        "        return self._num_qubits\n",
        "\n",
        "    def _decompose_(self, qubits):\n",
        "        \"\"\"A quantum circuit with the following structure\n",
        "        (swaps at the end of the circuit are omitted.)\n",
        "        ---H--@-------@--------@----------------------------------------------\n",
        "              |       |        |\n",
        "        ------@^0.5---+--------+---------H--@-------@-------------------------\n",
        "                      |        |            |       |\n",
        "        --------------@^0.25---+------------@^0.5---+---------H--@------------\n",
        "                               |                    |            |\n",
        "        -----------------------@^0.125--------------@^0.25-------@^0.5----H---\n",
        "        The number of qubits can be arbitrary.\n",
        "        \"\"\"\n",
        "\n",
        "        _qubits = list(qubits)\n",
        "        while len(_qubits) > 0:\n",
        "            q_head = _qubits.pop(0)\n",
        "            yield cirq.H(q_head)\n",
        "            for i, qubit in enumerate(_qubits):\n",
        "                yield (cirq.CZ(qubit, q_head)**(1/2.0**(i+1)))\n",
        "\n",
        "        _qubits = list(qubits)\n",
        "        while len(_qubits) > 1:\n",
        "            yield (cirq.SWAP(_qubits[0], _qubits[-1]))\n",
        "            _qubits = _qubits[1:-1]\n",
        "\n",
        "    def __str__(self):\n",
        "        return 'QFT'\n",
        "\n",
        "    def __repr__(self):\n",
        "        return ('cirq.Qft(num_qubits={!r})'.format(self._num_qubits))\n",
        "\n",
        "    def _circuit_diagram_info_(self, args: 'cirq.CircuitDiagramInfoArgs'):\n",
        "        return cirq.CircuitDiagramInfo(\n",
        "            wire_symbols=(str(self),) +\n",
        "            tuple(f'#{k+1}' for k in range(1, self._num_qubits)),\n",
        "            exponent_qubit_index=0)"
      ],
      "execution_count": 0,
      "outputs": []
    },
    {
      "cell_type": "markdown",
      "metadata": {
        "id": "0PfGdq6okM6o",
        "colab_type": "text"
      },
      "source": [
        "すべての入力ビットにアダマール演算子を適用すると、すべての基底ベクトルの係数が同一になる「定数関数」が入力値となります。出力結果を見ると、最初の基底ベクトルだけが 1 になることがわかります。"
      ]
    },
    {
      "cell_type": "code",
      "metadata": {
        "id": "Rj2WDmT0j9q1",
        "colab_type": "code",
        "colab": {
          "base_uri": "https://localhost:8080/",
          "height": 765
        },
        "outputId": "4f8bec45-7c09-4fb9-d378-005dfb37324f"
      },
      "source": [
        "qnum = 8\n",
        "qubits = [None] * qnum\n",
        "for i in range(len(qubits)):\n",
        "    qubits[i] = cirq.GridQubit(0, i)\n",
        "\n",
        "circuit = cirq.Circuit(\n",
        "    cirq.H.on_each(*qubits),\n",
        "    Qft(qnum)(*qubits))\n",
        "\n",
        "print(circuit)\n",
        "\n",
        "simulator = cirq.Simulator()\n",
        "result = simulator.simulate(circuit)\n",
        "print(np.around(result.final_state, 3))"
      ],
      "execution_count": 116,
      "outputs": [
        {
          "output_type": "stream",
          "text": [
            "(0, 0): ───H───QFT───\n",
            "               │\n",
            "(0, 1): ───H───#2────\n",
            "               │\n",
            "(0, 2): ───H───#3────\n",
            "               │\n",
            "(0, 3): ───H───#4────\n",
            "               │\n",
            "(0, 4): ───H───#5────\n",
            "               │\n",
            "(0, 5): ───H───#6────\n",
            "               │\n",
            "(0, 6): ───H───#7────\n",
            "               │\n",
            "(0, 7): ───H───#8────\n",
            "[ 1.+0.j  0.+0.j  0.+0.j  0.+0.j  0.+0.j  0.+0.j  0.+0.j  0.+0.j  0.+0.j\n",
            "  0.+0.j  0.+0.j  0.+0.j  0.+0.j  0.+0.j  0.+0.j  0.+0.j  0.+0.j  0.+0.j\n",
            "  0.+0.j  0.+0.j  0.+0.j  0.+0.j  0.+0.j  0.+0.j  0.+0.j  0.+0.j  0.+0.j\n",
            "  0.+0.j  0.+0.j  0.+0.j  0.+0.j  0.+0.j  0.+0.j  0.+0.j  0.+0.j  0.+0.j\n",
            "  0.+0.j  0.+0.j  0.+0.j  0.+0.j  0.+0.j  0.+0.j  0.+0.j  0.+0.j  0.+0.j\n",
            "  0.+0.j  0.+0.j  0.+0.j  0.+0.j  0.+0.j  0.+0.j  0.+0.j  0.+0.j  0.+0.j\n",
            "  0.+0.j  0.+0.j  0.+0.j  0.+0.j  0.+0.j  0.+0.j  0.+0.j  0.+0.j  0.+0.j\n",
            "  0.+0.j  0.+0.j  0.+0.j  0.+0.j  0.+0.j  0.+0.j  0.+0.j  0.+0.j  0.+0.j\n",
            "  0.+0.j  0.+0.j  0.+0.j  0.+0.j  0.+0.j  0.+0.j  0.+0.j  0.+0.j  0.+0.j\n",
            "  0.+0.j  0.+0.j  0.+0.j  0.+0.j  0.+0.j  0.+0.j  0.+0.j  0.+0.j  0.+0.j\n",
            "  0.+0.j  0.+0.j  0.+0.j  0.+0.j  0.+0.j  0.+0.j  0.+0.j  0.+0.j  0.+0.j\n",
            "  0.+0.j  0.+0.j  0.+0.j  0.+0.j  0.+0.j  0.+0.j  0.+0.j  0.+0.j  0.+0.j\n",
            "  0.+0.j  0.+0.j  0.+0.j  0.+0.j  0.+0.j  0.+0.j  0.+0.j  0.+0.j  0.+0.j\n",
            "  0.+0.j  0.+0.j  0.+0.j  0.+0.j  0.+0.j  0.+0.j  0.+0.j  0.+0.j  0.+0.j\n",
            "  0.+0.j  0.+0.j -0.+0.j -0.+0.j -0.+0.j -0.+0.j -0.+0.j -0.+0.j -0.+0.j\n",
            " -0.+0.j -0.+0.j -0.+0.j -0.+0.j -0.+0.j -0.+0.j -0.+0.j -0.+0.j -0.+0.j\n",
            " -0.+0.j -0.+0.j -0.+0.j -0.+0.j -0.+0.j -0.+0.j -0.+0.j -0.+0.j -0.+0.j\n",
            " -0.+0.j -0.+0.j -0.+0.j -0.+0.j -0.+0.j -0.+0.j -0.+0.j -0.+0.j -0.+0.j\n",
            " -0.+0.j -0.+0.j -0.+0.j -0.+0.j -0.+0.j -0.+0.j -0.+0.j -0.+0.j -0.+0.j\n",
            " -0.+0.j -0.+0.j -0.+0.j -0.+0.j -0.+0.j -0.+0.j -0.+0.j -0.+0.j -0.+0.j\n",
            " -0.+0.j -0.+0.j -0.+0.j -0.+0.j -0.+0.j -0.+0.j -0.+0.j -0.+0.j -0.+0.j\n",
            " -0.+0.j -0.+0.j -0.+0.j -0.+0.j -0.+0.j -0.+0.j -0.+0.j -0.+0.j -0.+0.j\n",
            " -0.+0.j -0.+0.j -0.+0.j -0.+0.j -0.+0.j -0.+0.j -0.+0.j -0.+0.j -0.+0.j\n",
            " -0.+0.j -0.+0.j -0.+0.j -0.+0.j -0.+0.j -0.+0.j -0.+0.j -0.+0.j -0.+0.j\n",
            " -0.+0.j -0.+0.j -0.+0.j -0.+0.j -0.+0.j -0.+0.j -0.+0.j -0.+0.j -0.+0.j\n",
            " -0.+0.j -0.+0.j -0.+0.j -0.+0.j -0.+0.j -0.+0.j -0.+0.j -0.+0.j -0.+0.j\n",
            " -0.+0.j -0.+0.j -0.+0.j -0.+0.j -0.+0.j -0.+0.j -0.+0.j -0.+0.j -0.+0.j\n",
            " -0.+0.j -0.+0.j -0.+0.j -0.+0.j -0.+0.j -0.+0.j -0.+0.j -0.+0.j -0.+0.j\n",
            " -0.+0.j -0.+0.j -0.+0.j -0.+0.j]\n"
          ],
          "name": "stdout"
        }
      ]
    },
    {
      "cell_type": "markdown",
      "metadata": {
        "id": "Om2B5vbHkknx",
        "colab_type": "text"
      },
      "source": [
        "周期 1/4 に相当する入力例をちょっとがんばって作ってみます。"
      ]
    },
    {
      "cell_type": "code",
      "metadata": {
        "id": "IYscu4WW9pXF",
        "colab_type": "code",
        "colab": {
          "base_uri": "https://localhost:8080/",
          "height": 68
        },
        "outputId": "3c8195eb-5774-4ccb-e851-3779ddc8c6ab"
      },
      "source": [
        "qnum = 3\n",
        "qubits = [None] * qnum\n",
        "for i in range(len(qubits)):\n",
        "    qubits[i] = cirq.GridQubit(0, i)\n",
        "\n",
        "circuit = cirq.Circuit(\n",
        "    cirq.X.on(qubits[2]),\n",
        "    cirq.H.on_each(*qubits),\n",
        "    )\n",
        "simulator = cirq.Simulator()\n",
        "result = simulator.simulate(circuit)\n",
        "print('xs: ', np.around(result.final_state, 3))\n",
        "\n",
        "circuit = cirq.Circuit(\n",
        "    cirq.X.on(qubits[2]),\n",
        "    cirq.H.on_each(*qubits),\n",
        "    Qft(qnum)(*qubits)\n",
        "    )\n",
        "simulator = cirq.Simulator()\n",
        "result = simulator.simulate(circuit)\n",
        "print('ys: ', np.around(result.final_state, 3))"
      ],
      "execution_count": 117,
      "outputs": [
        {
          "output_type": "stream",
          "text": [
            "xs:  [ 0.354+0.j -0.354+0.j  0.354+0.j -0.354+0.j  0.354+0.j -0.354+0.j\n",
            "  0.354+0.j -0.354+0.j]\n",
            "ys:  [ 0.+0.j  0.+0.j  0.+0.j  0.+0.j  1.+0.j -0.+0.j -0.+0.j -0.+0.j]\n"
          ],
          "name": "stdout"
        }
      ]
    },
    {
      "cell_type": "markdown",
      "metadata": {
        "id": "0QR37_GalYlX",
        "colab_type": "text"
      },
      "source": [
        "愚直に実装したものと比較して、同じ結果が得られていることがわかります。"
      ]
    },
    {
      "cell_type": "code",
      "metadata": {
        "id": "MhSgKFHe-5fM",
        "colab_type": "code",
        "colab": {
          "base_uri": "https://localhost:8080/",
          "height": 299
        },
        "outputId": "5e60d2cc-0431-40bc-d15d-773d52a5c81d"
      },
      "source": [
        "n = 8\n",
        "xs = np.array([1,-1,1,-1,1,-1,1,-1]) / np.sqrt(n)\n",
        "fourier_show(xs)"
      ],
      "execution_count": 118,
      "outputs": [
        {
          "output_type": "stream",
          "text": [
            "/usr/local/lib/python3.6/dist-packages/ipykernel_launcher.py:8: ComplexWarning: Casting complex values to real discards the imaginary part\n",
            "  \n"
          ],
          "name": "stderr"
        },
        {
          "output_type": "display_data",
          "data": {
            "image/png": "[encoded data removed]",
            "text/plain": [
              "<Figure size 504x288 with 1 Axes>"
            ]
          },
          "metadata": {
            "tags": []
          }
        }
      ]
    }
  ]
}